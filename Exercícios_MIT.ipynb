{
  "nbformat": 4,
  "nbformat_minor": 0,
  "metadata": {
    "colab": {
      "name": "Exercícios MIT.ipynb",
      "provenance": [],
      "collapsed_sections": [],
      "authorship_tag": "ABX9TyMU8/UCCuTmmx3j/dKeDIyi",
      "include_colab_link": true
    },
    "kernelspec": {
      "name": "python3",
      "display_name": "Python 3"
    }
  },
  "cells": [
    {
      "cell_type": "markdown",
      "metadata": {
        "id": "view-in-github",
        "colab_type": "text"
      },
      "source": [
        "<a href=\"https://colab.research.google.com/github/antunes-marina/M.I.T-edX-Courses/blob/main/Exerc%C3%ADcios_MIT.ipynb\" target=\"_parent\"><img src=\"https://colab.research.google.com/assets/colab-badge.svg\" alt=\"Open In Colab\"/></a>"
      ]
    },
    {
      "cell_type": "markdown",
      "metadata": {
        "id": "g-OIYnJegYJG"
      },
      "source": [
        "# **Introduction to Computer Science and Programming Using Python - M.I.T edX Courses**"
      ]
    },
    {
      "cell_type": "markdown",
      "metadata": {
        "id": "O7H0IysoUB3J"
      },
      "source": [
        "Professor Eric Grimson - Computer Science and Engineering MIT"
      ]
    },
    {
      "cell_type": "markdown",
      "metadata": {
        "id": "h_b_HPlAhC2R"
      },
      "source": [
        "# **Unit 1**"
      ]
    },
    {
      "cell_type": "markdown",
      "metadata": {
        "id": "SnlOSG_3CKzy"
      },
      "source": [
        "Practice:"
      ]
    },
    {
      "cell_type": "code",
      "metadata": {
        "colab": {
          "base_uri": "https://localhost:8080/"
        },
        "id": "mvS8IAS9COVS",
        "outputId": "d2d72045-ffdf-4db8-e86e-c8c24a4cb387"
      },
      "source": [
        "# um numero elevado a quinta potencia:\n",
        "\n",
        "23**5"
      ],
      "execution_count": null,
      "outputs": [
        {
          "output_type": "execute_result",
          "data": {
            "text/plain": [
              "6436343"
            ]
          },
          "metadata": {
            "tags": []
          },
          "execution_count": 1
        }
      ]
    },
    {
      "cell_type": "markdown",
      "metadata": {
        "id": "i8VGMecCCZrp"
      },
      "source": [
        "Positive root of the following equation:"
      ]
    },
    {
      "cell_type": "code",
      "metadata": {
        "colab": {
          "base_uri": "https://localhost:8080/"
        },
        "id": "JCanbvUHCgka",
        "outputId": "9d16a395-75aa-44a8-ceab-340c251bd05a"
      },
      "source": [
        "# 34*x^2 + 68*x - 510 = 0\n",
        "# a*x^2 + b*x + c = 0\n",
        "\n",
        "a = 34\n",
        "b = 68\n",
        "c = - 510\n",
        "\n",
        "import math #preciso chamar as funções para conseguir usar SQRT (square root)\n",
        "\n",
        "x = (-b +math.sqrt(b*b - 4*a*c))/(2*a)\n",
        "print(x)"
      ],
      "execution_count": null,
      "outputs": [
        {
          "output_type": "stream",
          "text": [
            "3.0\n"
          ],
          "name": "stdout"
        }
      ]
    },
    {
      "cell_type": "markdown",
      "metadata": {
        "id": "S0C6yp1QbNWC"
      },
      "source": [
        "Usando break no while:"
      ]
    },
    {
      "cell_type": "code",
      "metadata": {
        "id": "e4xV0XB9bUOH"
      },
      "source": [
        "num = 10\n",
        "while True:\n",
        "  "
      ],
      "execution_count": null,
      "outputs": []
    },
    {
      "cell_type": "markdown",
      "metadata": {
        "id": "Ea8MZAE_UA8l"
      },
      "source": [
        "### **Exercício 2**"
      ]
    },
    {
      "cell_type": "markdown",
      "metadata": {
        "id": "vTJ_T9e4hqcS"
      },
      "source": [
        "Tentativas para exercício 2 da Unit 1:"
      ]
    },
    {
      "cell_type": "code",
      "metadata": {
        "id": "1PNDK63vm8DH",
        "colab": {
          "base_uri": "https://localhost:8080/",
          "height": 129
        },
        "outputId": "17e8f8cf-4292-46a4-a8b8-87df883bb514"
      },
      "source": [
        "# 1 + 2 + 3 + 4 + 5 + 6 = 21 (mostrar resultado)\n",
        "s = \"bob\"\n",
        "end = len(s)\n",
        "count = 0\n",
        "for 'b' in s:\n",
        "  count += 1\n",
        "print(count)\n",
        "\n"
      ],
      "execution_count": null,
      "outputs": [
        {
          "output_type": "error",
          "ename": "SyntaxError",
          "evalue": "ignored",
          "traceback": [
            "\u001b[0;36m  File \u001b[0;32m\"<ipython-input-1-1f5db961b899>\"\u001b[0;36m, line \u001b[0;32m5\u001b[0m\n\u001b[0;31m    for 'b' in s:\u001b[0m\n\u001b[0m       ^\u001b[0m\n\u001b[0;31mSyntaxError\u001b[0m\u001b[0;31m:\u001b[0m can't assign to literal\n"
          ]
        }
      ]
    },
    {
      "cell_type": "code",
      "metadata": {
        "colab": {
          "base_uri": "https://localhost:8080/"
        },
        "id": "81retsBprzBh",
        "outputId": "9255fbc1-33d6-4234-c083-fd70c55cea58"
      },
      "source": [
        "s = \"bob bob\"\n",
        "count = 0\n",
        "index = 0\n",
        "while index <= len(s)-3:\n",
        "# for i in s: (resultado da 7)\n",
        "  if 'bob' in s:\n",
        "    count += 1\n",
        "    index += 1\n",
        "print(count)"
      ],
      "execution_count": null,
      "outputs": [
        {
          "output_type": "stream",
          "text": [
            "5\n"
          ],
          "name": "stdout"
        }
      ]
    },
    {
      "cell_type": "markdown",
      "metadata": {
        "id": "l1XiZV955TiZ"
      },
      "source": [
        "**Solução do exercício 2 da Unit 1:**"
      ]
    },
    {
      "cell_type": "code",
      "metadata": {
        "colab": {
          "base_uri": "https://localhost:8080/"
        },
        "id": "ULjbsOjS1s4P",
        "outputId": "d25654db-cb3f-4708-8bd9-c4c00b2affdd"
      },
      "source": [
        "s = \"bobobob\" #len=9 entao 7\n",
        "end = len(s)-2\n",
        "count = 0\n",
        "i = 0\n",
        "while i < end:\n",
        "  if s[i] + s[i+1] + s[i+2] == \"bob\":\n",
        "    count += 1\n",
        "    i += 1\n",
        "  else:\n",
        "    i +=1\n",
        "print(count)"
      ],
      "execution_count": null,
      "outputs": [
        {
          "output_type": "stream",
          "text": [
            "3\n"
          ],
          "name": "stdout"
        }
      ]
    },
    {
      "cell_type": "markdown",
      "metadata": {
        "id": "r_6Dzl5GQDxf"
      },
      "source": [
        "# **Exercício 3**"
      ]
    },
    {
      "cell_type": "markdown",
      "metadata": {
        "id": "FGfAt-fRiDim"
      },
      "source": [
        "Tentativas para exercício 3 da Unit 1:"
      ]
    },
    {
      "cell_type": "code",
      "metadata": {
        "colab": {
          "base_uri": "https://localhost:8080/"
        },
        "id": "yi7Qs1bHiKG4",
        "outputId": "d270f0f0-708b-4767-cb51-b4247fab0fdd"
      },
      "source": [
        "s = \"abcbcd\"\n",
        "\n",
        "end = len(s)-1\n",
        "subS = \"\"\n",
        "i = 0\n",
        "\n",
        "while i < end:\n",
        "  if s[i] <= s[i+1]:\n",
        "    subS += s[i] + s[i + 1]\n",
        "    i += 1\n",
        "  else:\n",
        "    i += 1\n",
        "print(subS)\n",
        "\n",
        "\n",
        "\n",
        "# Longest substring in alphabetical order is: abc\n"
      ],
      "execution_count": null,
      "outputs": [
        {
          "output_type": "stream",
          "text": [
            "abbcbccd\n"
          ],
          "name": "stdout"
        }
      ]
    },
    {
      "cell_type": "markdown",
      "metadata": {
        "id": "NbwWldg_QNdM"
      },
      "source": [
        "Dando errado, obtive 2,5 pontos"
      ]
    },
    {
      "cell_type": "code",
      "metadata": {
        "colab": {
          "base_uri": "https://localhost:8080/"
        },
        "id": "wdNyR7SHiVcr",
        "outputId": "ae7440e1-3dbf-4795-aa8d-e892f45349e8"
      },
      "source": [
        "s = \"sygulytnerpwchpewyfvshjn\"\n",
        "\n",
        "end = len(s)-2\n",
        "subS = \"\"\n",
        "subS2 = \"\"\n",
        "longestsub = \"\"\n",
        "i = 0\n",
        "\n",
        "while i < end:\n",
        "    if s[i] <= s[i+1]:\n",
        "        subS += s[i] + s[i + 1]\n",
        "        i += 1\n",
        "        subS2 = subS\n",
        "        if s[i] <= s[i+1]:\n",
        "            subS += s[i+1]\n",
        "            if len(subS) > len(subS2):\n",
        "                subS2 = subS\n",
        "                i += 1\n",
        "            else:\n",
        "                i += 1                \n",
        "    else:\n",
        "        longestsub = subS2\n",
        "        i += 1\n",
        "        subS = \"\"\n",
        "print(longestsub)"
      ],
      "execution_count": null,
      "outputs": [
        {
          "output_type": "stream",
          "text": [
            "fv\n"
          ],
          "name": "stdout"
        }
      ]
    },
    {
      "cell_type": "markdown",
      "metadata": {
        "id": "gOHTIenxP3Am"
      },
      "source": [
        "Ainda dando errado, porém obtive 10,5 pontos em 15"
      ]
    },
    {
      "cell_type": "code",
      "metadata": {
        "colab": {
          "base_uri": "https://localhost:8080/"
        },
        "id": "Svkjd443FkN2",
        "outputId": "70c55a1a-b0a8-414b-9428-004173848a7d"
      },
      "source": [
        "s = \"sygulytnerpwchpewyfvshjn\"\n",
        "\n",
        "end = len(s)-2\n",
        "subS = \"\"\n",
        "subS2 = \"\"\n",
        "longestsub = \"\"\n",
        "i = 0\n",
        "\n",
        "while i < end:\n",
        "  if s[i] <= s[i+1]:\n",
        "    subS += s[i] + s[i + 1]\n",
        "    i += 1\n",
        "    subS2 = subS\n",
        "    if s[i] <= s[i+1]:\n",
        "      subS += s[i+1]\n",
        "      if len(subS) > len(subS2):\n",
        "        subS2 = subS\n",
        "        i += 1\n",
        "        if longestsub < subS2:\n",
        "          longestsub = subS2\n",
        "        else:\n",
        "          i += 1\n",
        "    elif len(longestsub)< len(subS2):\n",
        "      longestsub = subS2\n",
        "      i += 1\n",
        "      subS = \"\"\n",
        "    else:\n",
        "      subS = \"\"\n",
        "      i += 1\n",
        "  else:\n",
        "    i += 1\n",
        "    subS = \"\"\n",
        "print(longestsub)"
      ],
      "execution_count": null,
      "outputs": [
        {
          "output_type": "stream",
          "text": [
            "hjn\n"
          ],
          "name": "stdout"
        }
      ]
    },
    {
      "cell_type": "markdown",
      "metadata": {
        "id": "WgKZRrEqPuOx"
      },
      "source": [
        "Ainda dando errado, porém obtive 12 pontos em 15"
      ]
    },
    {
      "cell_type": "code",
      "metadata": {
        "colab": {
          "base_uri": "https://localhost:8080/"
        },
        "id": "WlQOWqEAPrEk",
        "outputId": "c7bcec43-bff2-46b7-eaee-eea8c1a9420f"
      },
      "source": [
        "s = \"idttviah\"\n",
        "\n",
        "end = len(s)-2\n",
        "subS = \"\"\n",
        "subS2 = \"\"\n",
        "longestsub = \"\"\n",
        "i = 0\n",
        "\n",
        "while i < end:\n",
        "    if s[i] <= s[i+1]:\n",
        "        subS += s[i] + s[i + 1]\n",
        "        i += 1\n",
        "        subS2 = subS\n",
        "        while s[i] <= s[i+1]:\n",
        "            subS += s[i+1]\n",
        "            if len(subS) > len(subS2):\n",
        "                subS2 = subS\n",
        "                i += 1\n",
        "                if len(longestsub) < len(subS2):\n",
        "                    longestsub = subS2\n",
        "            else:\n",
        "                i += 1\n",
        "        if len(longestsub) < len(subS2):\n",
        "            longestsub = subS2\n",
        "            i += 1\n",
        "            subS = \"\"\n",
        "        else:\n",
        "            subS = \"\"\n",
        "            i += 1\n",
        "    else:\n",
        "        i += 1\n",
        "        subS = \"\"\n",
        "print(longestsub)"
      ],
      "execution_count": null,
      "outputs": [
        {
          "output_type": "stream",
          "text": [
            "dttv\n"
          ],
          "name": "stdout"
        }
      ]
    },
    {
      "cell_type": "markdown",
      "metadata": {
        "id": "Xlx9skrqSKb7"
      },
      "source": [
        "**Última tentativa** (não retorna valor de um string só, apenas qdo aparecem duas na ordem alfabetica) \n",
        "**Consegui 13,5 pontos**"
      ]
    },
    {
      "cell_type": "code",
      "metadata": {
        "id": "Rn0d-X1eSIay"
      },
      "source": [
        "s = \"zyxwvutsrqponmlkjihgfedcba\"\n",
        "# O resultado seria a primeira letra (z), porém meu código não guarda ela como string...\n",
        "\n",
        "end = len(s)-2\n",
        "subS = \"\"\n",
        "subS2 = \"\"\n",
        "longestsub = \"\"\n",
        "i = 0\n",
        "\n",
        "while i < end:\n",
        "    if s[i] <= s[i+1]:\n",
        "        subS += s[i] + s[i + 1]\n",
        "        i += 1\n",
        "        subS2 = subS\n",
        "        while s[i] <= s[i+1]:\n",
        "            if i == end:\n",
        "                break        \n",
        "            subS += s[i+1]\n",
        "            if len(subS) > len(subS2):\n",
        "                subS2 = subS\n",
        "                i += 1\n",
        "                if len(longestsub) < len(subS2):\n",
        "                    longestsub = subS2\n",
        "            else:\n",
        "                i += 1\n",
        "        if len(longestsub) < len(subS2):\n",
        "            longestsub = subS2\n",
        "            i += 1\n",
        "            subS = \"\"\n",
        "        else:\n",
        "            subS = \"\"\n",
        "            i += 1\n",
        "    else:\n",
        "        i += 1\n",
        "        subS = \"\"\n",
        "print(longestsub)"
      ],
      "execution_count": null,
      "outputs": []
    },
    {
      "cell_type": "markdown",
      "metadata": {
        "id": "gWfdgXLq3SsA"
      },
      "source": [
        "Brincando de printar as letras ABC que aparecem na String s:"
      ]
    },
    {
      "cell_type": "code",
      "metadata": {
        "colab": {
          "base_uri": "https://localhost:8080/"
        },
        "id": "iRCFFX9JiPMs",
        "outputId": "fe44c9ef-1eb1-414d-c28c-51e10e013807"
      },
      "source": [
        "s = \"azcbobobegghakl\"\n",
        "\n",
        "for letter in s:\n",
        "  if letter in \"abc\":\n",
        "    print(letter)\n"
      ],
      "execution_count": null,
      "outputs": [
        {
          "output_type": "stream",
          "text": [
            "a\n",
            "c\n",
            "b\n",
            "b\n",
            "b\n",
            "a\n"
          ],
          "name": "stdout"
        }
      ]
    },
    {
      "cell_type": "code",
      "metadata": {
        "colab": {
          "base_uri": "https://localhost:8080/"
        },
        "id": "QC1ilw3B2xQX",
        "outputId": "9e24aaab-60d8-4bd4-8301-622552190f7c"
      },
      "source": [
        "s = \"azcbobobegghakl\"\n",
        "\n",
        "subS = \"\"\n",
        "\n",
        "for letter in s:\n",
        "  if letter in \"abc\":\n",
        "    subS += letter\n",
        "    print(subS)"
      ],
      "execution_count": null,
      "outputs": [
        {
          "output_type": "stream",
          "text": [
            "a\n",
            "ac\n",
            "acb\n",
            "acbb\n",
            "acbbb\n",
            "acbbba\n"
          ],
          "name": "stdout"
        }
      ]
    },
    {
      "cell_type": "code",
      "metadata": {
        "colab": {
          "base_uri": "https://localhost:8080/"
        },
        "id": "46daqIeF4Luh",
        "outputId": "08904da3-0936-4a2c-a2fe-e6b0d64f7a89"
      },
      "source": [
        "s = \"azcbobobegghakl\"\n",
        "\n",
        "subS = \"\"\n",
        "\n",
        "for i in range(len(s)-1):\n",
        "  print(\"index\", i , \"=\" , s[i])"
      ],
      "execution_count": null,
      "outputs": [
        {
          "output_type": "stream",
          "text": [
            "index 0 = a\n",
            "index 1 = z\n",
            "index 2 = c\n",
            "index 3 = b\n",
            "index 4 = o\n",
            "index 5 = b\n",
            "index 6 = o\n",
            "index 7 = b\n",
            "index 8 = e\n",
            "index 9 = g\n",
            "index 10 = g\n",
            "index 11 = h\n",
            "index 12 = a\n",
            "index 13 = k\n"
          ],
          "name": "stdout"
        }
      ]
    },
    {
      "cell_type": "markdown",
      "metadata": {
        "id": "S9egfHc1nHL-"
      },
      "source": [
        "## **Unit 2**"
      ]
    },
    {
      "cell_type": "markdown",
      "metadata": {
        "id": "lgDxf5_RrfD0"
      },
      "source": [
        "**Video 1 - So far...\n",
        "Reviewing Loops:**"
      ]
    },
    {
      "cell_type": "markdown",
      "metadata": {
        "id": "fBypyanxs4w3"
      },
      "source": [
        "LOOP REVIEW Square root:"
      ]
    },
    {
      "cell_type": "code",
      "metadata": {
        "id": "h2ZQe5Ck4Y3C",
        "colab": {
          "base_uri": "https://localhost:8080/"
        },
        "outputId": "583ae9c5-c288-4e12-cd99-707826d06a1a"
      },
      "source": [
        "ans = 0\n",
        "neg_flag = False\n",
        "x = int(input(\"Enter an integer: \"))\n",
        "if x < 0:\n",
        "  neg_flag = True\n",
        "while ans**2 < x:\n",
        "  ans += 1\n",
        "if ans**2 == x:\n",
        "  print(\"Square root of\", x, \"is\", ans)\n",
        "else:\n",
        "  print(x, \"is not a perfect square\")\n",
        "  if neg_flag:\n",
        "    print(\"Just checking... did you mean\", -x, \"?\")\n"
      ],
      "execution_count": null,
      "outputs": [
        {
          "output_type": "stream",
          "text": [
            "Enter an integer: 25\n",
            "Square root of 25 is 5\n"
          ],
          "name": "stdout"
        }
      ]
    },
    {
      "cell_type": "markdown",
      "metadata": {
        "id": "xyZc_-flvlzF"
      },
      "source": [
        "STRING REVIEW"
      ]
    },
    {
      "cell_type": "markdown",
      "metadata": {
        "id": "-XXh2P40v2uU"
      },
      "source": [
        "Imprimindo string ao contrário:"
      ]
    },
    {
      "cell_type": "code",
      "metadata": {
        "colab": {
          "base_uri": "https://localhost:8080/",
          "height": 35
        },
        "id": "OFfji9L2r4BN",
        "outputId": "d0400730-0219-4819-bdf3-861fd47957ff"
      },
      "source": [
        "s = \"abcdefgh\"\n",
        "s[-1:-9:-1]\n"
      ],
      "execution_count": null,
      "outputs": [
        {
          "output_type": "execute_result",
          "data": {
            "application/vnd.google.colaboratory.intrinsic+json": {
              "type": "string"
            },
            "text/plain": [
              "'hgfedcba'"
            ]
          },
          "metadata": {
            "tags": []
          },
          "execution_count": 16
        }
      ]
    },
    {
      "cell_type": "markdown",
      "metadata": {
        "id": "cg0KqRkyv8_2"
      },
      "source": [
        "Strings são imutáveis:"
      ]
    },
    {
      "cell_type": "code",
      "metadata": {
        "colab": {
          "base_uri": "https://localhost:8080/",
          "height": 180
        },
        "id": "JCEhTtgLvto5",
        "outputId": "59dfc330-fda5-476b-f58a-5d20f7274911"
      },
      "source": [
        "s = \"hello\"\n",
        "s[0] = \"y\"\n"
      ],
      "execution_count": null,
      "outputs": [
        {
          "output_type": "error",
          "ename": "TypeError",
          "evalue": "ignored",
          "traceback": [
            "\u001b[0;31m---------------------------------------------------------------------------\u001b[0m",
            "\u001b[0;31mTypeError\u001b[0m                                 Traceback (most recent call last)",
            "\u001b[0;32m<ipython-input-8-510b33a9fbf8>\u001b[0m in \u001b[0;36m<module>\u001b[0;34m()\u001b[0m\n\u001b[1;32m      1\u001b[0m \u001b[0ms\u001b[0m \u001b[0;34m=\u001b[0m \u001b[0;34m\"hello\"\u001b[0m\u001b[0;34m\u001b[0m\u001b[0;34m\u001b[0m\u001b[0m\n\u001b[0;32m----> 2\u001b[0;31m \u001b[0ms\u001b[0m\u001b[0;34m[\u001b[0m\u001b[0;36m0\u001b[0m\u001b[0;34m]\u001b[0m \u001b[0;34m=\u001b[0m \u001b[0;34m\"y\"\u001b[0m\u001b[0;34m\u001b[0m\u001b[0;34m\u001b[0m\u001b[0m\n\u001b[0m",
            "\u001b[0;31mTypeError\u001b[0m: 'str' object does not support item assignment"
          ]
        }
      ]
    },
    {
      "cell_type": "markdown",
      "metadata": {
        "id": "gwQDCe25wap2"
      },
      "source": [
        "Como mudar uma string:"
      ]
    },
    {
      "cell_type": "code",
      "metadata": {
        "colab": {
          "base_uri": "https://localhost:8080/"
        },
        "id": "SQho_-0XwJkQ",
        "outputId": "efc77ad4-ed6b-48b0-be95-b0185339af1d"
      },
      "source": [
        "s = \"hello\"\n",
        "s = \"y\" + s[1:len(s)] + \"w\"\n",
        "print(s)"
      ],
      "execution_count": null,
      "outputs": [
        {
          "output_type": "stream",
          "text": [
            "yellow\n"
          ],
          "name": "stdout"
        }
      ]
    },
    {
      "cell_type": "markdown",
      "metadata": {
        "id": "oMwJ8x0u1ZRV"
      },
      "source": [
        "STRINGS AND LOOPS:\n"
      ]
    },
    {
      "cell_type": "code",
      "metadata": {
        "colab": {
          "base_uri": "https://localhost:8080/"
        },
        "id": "7193Qah6wUyy",
        "outputId": "67c9cf51-166f-4e7e-b460-a44a21abc396"
      },
      "source": [
        "#USANDO RANGE:\n",
        "\n",
        "s = \"abcdefgh\"\n",
        "for index in range (len(s)):\n",
        "  if s[index] == \"a\" or s[index] == \"u\":\n",
        "    print(\"There's an a or u\")"
      ],
      "execution_count": null,
      "outputs": [
        {
          "output_type": "stream",
          "text": [
            "There's an a or u\n"
          ],
          "name": "stdout"
        }
      ]
    },
    {
      "cell_type": "markdown",
      "metadata": {
        "id": "CmqkWH7F112m"
      },
      "source": [
        "Posso escrever assim tb:"
      ]
    },
    {
      "cell_type": "code",
      "metadata": {
        "colab": {
          "base_uri": "https://localhost:8080/"
        },
        "id": "q_VyBoc-1uwz",
        "outputId": "851e9c80-acaf-4b08-bace-25d353eaf5d9"
      },
      "source": [
        "#USANDO CARACTERES DA STRING:\n",
        "\n",
        "s = \"abcdefgh\"\n",
        "for char in s:\n",
        "  if char == \"a\" or char == \"u\":\n",
        "    print(\"There's an a or u\")"
      ],
      "execution_count": null,
      "outputs": [
        {
          "output_type": "stream",
          "text": [
            "There's an a or u\n"
          ],
          "name": "stdout"
        }
      ]
    },
    {
      "cell_type": "markdown",
      "metadata": {
        "id": "S_81aFURAyZc"
      },
      "source": [
        "CODE EXAMPLE \"CHEER LEADER\":"
      ]
    },
    {
      "cell_type": "code",
      "metadata": {
        "colab": {
          "base_uri": "https://localhost:8080/"
        },
        "id": "Q61eVM9c2Fg1",
        "outputId": "04f6cf8c-525c-4be2-b82b-daa21b4b41f8"
      },
      "source": [
        "an_letters = \"aefhilmnorsxAEFHILMNORSX\"\n",
        "\n",
        "word = input(\"I will cheer for you! Enter a word: \")\n",
        "times = int(input(\"Enthusiasm level (1-10): \"))\n",
        "i = 0\n",
        "while i < len(word):\n",
        "  char = word[i]\n",
        "  if char in an_letters:\n",
        "    print(\"Give me an \" + char + \"! \" + char)\n",
        "  else:\n",
        "    print(\"Give me a \" + char + \"! \" + char)\n",
        "  i+= 1\n",
        "print(\"What does that spell?\")\n",
        "for i in range(times):\n",
        "  print(word, \"!!!\")"
      ],
      "execution_count": null,
      "outputs": [
        {
          "output_type": "stream",
          "text": [
            "I will cheer for you! Enter a word: MIT\n",
            "Enthusiasm level (1-10): 5\n",
            "Give me an M! M\n",
            "Give me an I! I\n",
            "Give me a T! T\n",
            "What does that spell?\n",
            "MIT !!!\n",
            "MIT !!!\n",
            "MIT !!!\n",
            "MIT !!!\n",
            "MIT !!!\n"
          ],
          "name": "stdout"
        }
      ]
    },
    {
      "cell_type": "markdown",
      "metadata": {
        "id": "0k3GURXwqaRn"
      },
      "source": [
        "Exercicios Video 1:"
      ]
    },
    {
      "cell_type": "code",
      "metadata": {
        "colab": {
          "base_uri": "https://localhost:8080/"
        },
        "id": "6G-d6-VdB9Uo",
        "outputId": "322a5c1b-4797-4139-d501-f769cb27c6fb"
      },
      "source": [
        "iteration = 0\n",
        "count = 0\n",
        "while iteration < 5:\n",
        "  for letter in \"hello, world\":\n",
        "    count += 1\n",
        "  print(\"Iteration \" + str(iteration) + \"; count is: \" + str(count))\n",
        "  iteration += 1 "
      ],
      "execution_count": null,
      "outputs": [
        {
          "output_type": "stream",
          "text": [
            "Iteration 0; count is: 12\n",
            "Iteration 1; count is: 24\n",
            "Iteration 2; count is: 36\n",
            "Iteration 3; count is: 48\n",
            "Iteration 4; count is: 60\n"
          ],
          "name": "stdout"
        }
      ]
    },
    {
      "cell_type": "code",
      "metadata": {
        "colab": {
          "base_uri": "https://localhost:8080/"
        },
        "id": "IRq-Z4VKO9bW",
        "outputId": "48810f6c-39dc-4e66-a58b-e4b4a7354e34"
      },
      "source": [
        "iteration = 0\n",
        "while iteration < 5:\n",
        "    count = 0\n",
        "    for letter in \"hello, world\":\n",
        "        count += 1\n",
        "    print(\"Iteration \" + str(iteration) + \"; count is: \" + str(count))\n",
        "    iteration += 1 "
      ],
      "execution_count": null,
      "outputs": [
        {
          "output_type": "stream",
          "text": [
            "Iteration 0; count is: 12\n",
            "Iteration 1; count is: 12\n",
            "Iteration 2; count is: 12\n",
            "Iteration 3; count is: 12\n",
            "Iteration 4; count is: 12\n"
          ],
          "name": "stdout"
        }
      ]
    },
    {
      "cell_type": "code",
      "metadata": {
        "colab": {
          "base_uri": "https://localhost:8080/"
        },
        "id": "snQk8Yr-kp_h",
        "outputId": "1158054c-6293-4318-a4f8-6d0f505539d6"
      },
      "source": [
        "iteration = 0\n",
        "while iteration < 5:\n",
        "    count = 0\n",
        "    for letter in \"hello, world\":\n",
        "        count += 1\n",
        "        if iteration % 2 == 0:\n",
        "            break\n",
        "    print(\"Iteration \" + str(iteration) + \"; count is: \" + str(count))\n",
        "    iteration += 1 "
      ],
      "execution_count": null,
      "outputs": [
        {
          "output_type": "stream",
          "text": [
            "Iteration 0; count is: 1\n",
            "Iteration 1; count is: 12\n",
            "Iteration 2; count is: 1\n",
            "Iteration 3; count is: 12\n",
            "Iteration 4; count is: 1\n"
          ],
          "name": "stdout"
        }
      ]
    },
    {
      "cell_type": "markdown",
      "metadata": {
        "id": "irF-WmWe71ka"
      },
      "source": [
        "**Video 2 - Approximate Solutions**"
      ]
    },
    {
      "cell_type": "markdown",
      "metadata": {
        "id": "YyVaoJQj8Q2K"
      },
      "source": [
        "Achando a raiz cubica de numeros:"
      ]
    },
    {
      "cell_type": "code",
      "metadata": {
        "colab": {
          "base_uri": "https://localhost:8080/"
        },
        "id": "L7SWmdUc71AW",
        "outputId": "728a5cfd-a1cc-429d-e702-a8f79834eb02"
      },
      "source": [
        "cube = 27\n",
        "epsilon = 0.01\n",
        "guess = 0.0\n",
        "increment = 0.0001\n",
        "num_guesses = 0\n",
        "\n",
        "#Como neste cód não defini um limite, em alguns casos, dependendo do valor de x ele vai entrar em um INFINITE LOOP\n",
        "\n",
        "while abs(guess**3 - cube) >= epsilon:\n",
        "    guess += increment\n",
        "    num_guesses += 1\n",
        "print('num_guesses =', num_guesses)\n",
        "if abs(guess**3 - cube) >= epsilon:\n",
        "    print('Failed on cube root of', cube)\n",
        "else:\n",
        "    print(guess, 'is close to the cube root of', cube)"
      ],
      "execution_count": null,
      "outputs": [
        {
          "output_type": "stream",
          "text": [
            "num_guesses = 29997\n",
            "2.999700000001906 is close to the cube root of 27\n"
          ],
          "name": "stdout"
        }
      ]
    },
    {
      "cell_type": "code",
      "metadata": {
        "colab": {
          "base_uri": "https://localhost:8080/"
        },
        "id": "Q0c_dv1T82aq",
        "outputId": "f3c5a36d-3033-475f-c961-4053c2fdb094"
      },
      "source": [
        "cube = 27\n",
        "epsilon = 0.01\n",
        "guess = 0.0\n",
        "increment = 0.0001\n",
        "num_guesses = 0\n",
        "\n",
        "#Acrescentando guess <= cube defino meu LIMITE para não entrar e loop infinito como anteriormente:\n",
        "\n",
        "while abs(guess**3 - cube) >= epsilon and guess <= cube: \n",
        "    guess += increment\n",
        "    num_guesses += 1\n",
        "print('num_guesses =', num_guesses)\n",
        "if abs(guess**3 - cube) >= epsilon:\n",
        "    print('Failed on cube root of', cube)\n",
        "else:\n",
        "    print(guess, 'is close to the cube root of', cube)"
      ],
      "execution_count": null,
      "outputs": [
        {
          "output_type": "stream",
          "text": [
            "num_guesses = 29997\n",
            "2.999700000001906 is close to the cube root of 27\n"
          ],
          "name": "stdout"
        }
      ]
    },
    {
      "cell_type": "markdown",
      "metadata": {
        "id": "-oVOIAtuW2wQ"
      },
      "source": [
        "Exercicios - Video 2"
      ]
    },
    {
      "cell_type": "markdown",
      "metadata": {
        "id": "26tdWhVVZt73"
      },
      "source": [
        "Achando a raiz:"
      ]
    },
    {
      "cell_type": "code",
      "metadata": {
        "colab": {
          "base_uri": "https://localhost:8080/"
        },
        "id": "eeg33u_JW2T0",
        "outputId": "50e7edd1-49e3-41ac-c1af-67ae09558cf8"
      },
      "source": [
        "x = 25\n",
        "epsilon = 0.01\n",
        "step = 0.1\n",
        "guess = 0.0\n",
        "\n",
        "while guess <= x:\n",
        "    if abs(guess**2 -x) < epsilon:\n",
        "        break\n",
        "    else:\n",
        "        guess += step\n",
        "\n",
        "if abs(guess**2 - x) >= epsilon:\n",
        "    print('failed')\n",
        "else:\n",
        "    print('succeeded: ' + str(guess))"
      ],
      "execution_count": null,
      "outputs": [
        {
          "output_type": "stream",
          "text": [
            "succeeded: 4.999999999999998\n"
          ],
          "name": "stdout"
        }
      ]
    },
    {
      "cell_type": "code",
      "metadata": {
        "id": "No7wp7ITZ25W"
      },
      "source": [
        "# Teremos um LOOP INFINITO pois não foi criada outra condição \n",
        "# para desvalidar a if clause do WHILE:\n",
        "\n",
        "x = 25\n",
        "epsilon = 0.01\n",
        "step = 0.1\n",
        "guess = 0.0\n",
        "\n",
        "while guess <= x:\n",
        "    if abs(guess**2 -x) >= epsilon:   # guess=5 então 0 >= 0.0.1 FALSE então retorna pro WHILE comparando infinitamente 5 <= 25\n",
        "        guess += step\n",
        "\n",
        "if abs(guess**2 - x) >= epsilon:\n",
        "    print('failed')\n",
        "else:\n",
        "    print('succeeded: ' + str(guess))"
      ],
      "execution_count": null,
      "outputs": []
    },
    {
      "cell_type": "code",
      "metadata": {
        "colab": {
          "base_uri": "https://localhost:8080/"
        },
        "id": "aUg2oSi-MsCl",
        "outputId": "d9251ebd-f9ec-46ba-897c-d854998ae1cc"
      },
      "source": [
        "x = 25\n",
        "epsilon = 0.01\n",
        "step = 0.1\n",
        "guess = 0.0\n",
        "\n",
        "while abs(guess**2-x) >= epsilon:\n",
        "    if guess <= x:\n",
        "        guess += step\n",
        "    else:\n",
        "        break\n",
        "\n",
        "if abs(guess**2 - x) >= epsilon:\n",
        "    print('failed')\n",
        "else:\n",
        "    print('succeeded: ' + str(guess))"
      ],
      "execution_count": null,
      "outputs": [
        {
          "output_type": "stream",
          "text": [
            "succeeded: 4.999999999999998\n"
          ],
          "name": "stdout"
        }
      ]
    },
    {
      "cell_type": "markdown",
      "metadata": {
        "id": "4RdRbIE_b-N3"
      },
      "source": [
        "Rodando o mesmo código acima, com x=23, vamos ter uma falha!"
      ]
    },
    {
      "cell_type": "code",
      "metadata": {
        "colab": {
          "base_uri": "https://localhost:8080/"
        },
        "id": "unncr5nTMw84",
        "outputId": "5df3cab8-bb24-40e2-be82-ab52a7fc62d7"
      },
      "source": [
        "x = 23\n",
        "epsilon = 0.01\n",
        "step = 0.1\n",
        "guess = 0.0\n",
        "\n",
        "# Neste código não existe um parâmetro para se determinar uma resposta aproximada, pois a condição do WHILE sempre será >= 0.01 (epsilon)\n",
        "# Dessa forma o código será executado até o guess = 23, onde não satisfaz o IF indo pra parte do print chegando em FAILED\n",
        "\n",
        "while abs(guess**2-x) >= epsilon:\n",
        "    if guess <= x:\n",
        "        guess += step\n",
        "    else:\n",
        "        break\n",
        "\n",
        "if abs(guess**2 - x) >= epsilon:\n",
        "    print('failed')\n",
        "else:\n",
        "    print('succeeded: ' + str(guess))"
      ],
      "execution_count": null,
      "outputs": [
        {
          "output_type": "stream",
          "text": [
            "failed\n"
          ],
          "name": "stdout"
        }
      ]
    },
    {
      "cell_type": "code",
      "metadata": {
        "colab": {
          "base_uri": "https://localhost:8080/"
        },
        "id": "_-vyquEzNDMy",
        "outputId": "77d98e8f-2266-47a1-b854-8a9a473aee82"
      },
      "source": [
        "0.375*2**3\n"
      ],
      "execution_count": null,
      "outputs": [
        {
          "output_type": "execute_result",
          "data": {
            "text/plain": [
              "3.0"
            ]
          },
          "metadata": {
            "tags": []
          },
          "execution_count": 35
        }
      ]
    },
    {
      "cell_type": "code",
      "metadata": {
        "colab": {
          "base_uri": "https://localhost:8080/"
        },
        "id": "fHcBZ7z0kzeJ",
        "outputId": "b12f0411-3ee0-438d-932d-6ffcb7e05461"
      },
      "source": [
        "11/2**3"
      ],
      "execution_count": null,
      "outputs": [
        {
          "output_type": "execute_result",
          "data": {
            "text/plain": [
              "1.375"
            ]
          },
          "metadata": {
            "tags": []
          },
          "execution_count": 40
        }
      ]
    },
    {
      "cell_type": "markdown",
      "metadata": {
        "id": "9V7qgVNZ7jFx"
      },
      "source": [
        "**Video 3 - Biscetion Search**"
      ]
    },
    {
      "cell_type": "markdown",
      "metadata": {
        "id": "22SivWNqErfE"
      },
      "source": [
        "Usando Bisection para aprimorar o GUESS da raiz:"
      ]
    },
    {
      "cell_type": "code",
      "metadata": {
        "id": "3ZiRH24PlKAW",
        "colab": {
          "base_uri": "https://localhost:8080/"
        },
        "outputId": "c7f32f20-56fb-47cd-d1b0-83edda245298"
      },
      "source": [
        "x = 25\n",
        "epsilon = 0.01\n",
        "numGuesses = 0\n",
        "low = 0.0\n",
        "high = x\n",
        "ans = (high + low)/2.0\n",
        "\n",
        "while abs(ans**2 - x) >= epsilon:\n",
        "    print('low = ' + str(low) + ' high = ' + str(high) + ' ans = ' + str(ans))\n",
        "    numGuesses += 1\n",
        "    if ans**2 < x:\n",
        "        low = ans\n",
        "    else:\n",
        "        high = ans\n",
        "    ans = (high + low)/2.0\n",
        "print('numGuesses = ' + str(numGuesses))\n",
        "print(str(ans) + ' is close to square root of ' + str(x))"
      ],
      "execution_count": null,
      "outputs": [
        {
          "output_type": "stream",
          "text": [
            "low = 0.0 high = 25 ans = 12.5\n",
            "low = 0.0 high = 12.5 ans = 6.25\n",
            "low = 0.0 high = 6.25 ans = 3.125\n",
            "low = 3.125 high = 6.25 ans = 4.6875\n",
            "low = 4.6875 high = 6.25 ans = 5.46875\n",
            "low = 4.6875 high = 5.46875 ans = 5.078125\n",
            "low = 4.6875 high = 5.078125 ans = 4.8828125\n",
            "low = 4.8828125 high = 5.078125 ans = 4.98046875\n",
            "low = 4.98046875 high = 5.078125 ans = 5.029296875\n",
            "low = 4.98046875 high = 5.029296875 ans = 5.0048828125\n",
            "low = 4.98046875 high = 5.0048828125 ans = 4.99267578125\n",
            "low = 4.99267578125 high = 5.0048828125 ans = 4.998779296875\n",
            "low = 4.998779296875 high = 5.0048828125 ans = 5.0018310546875\n",
            "numGuesses = 13\n",
            "5.00030517578125 is close to square root of 25\n"
          ],
          "name": "stdout"
        }
      ]
    },
    {
      "cell_type": "markdown",
      "metadata": {
        "id": "BWq4zTl3KRu7"
      },
      "source": [
        "Mesma coisa para Raiz Cubica"
      ]
    },
    {
      "cell_type": "code",
      "metadata": {
        "colab": {
          "base_uri": "https://localhost:8080/"
        },
        "id": "0WVO9V_fEo-M",
        "outputId": "b5af1400-722e-405b-9892-3fe8ffe595af"
      },
      "source": [
        "\n",
        "cube = 54\n",
        "epsilon = 0.01\n",
        "num_guesses = 0\n",
        "low = 0\n",
        "high = cube\n",
        "guess = (high + low)/2.0\n",
        "while abs(guess**3 - cube) >= epsilon:\n",
        "    if guess**3 < cube :\n",
        "        low = guess\n",
        "    else:\n",
        "        high = guess\n",
        "    guess = (high + low)/2.0\n",
        "    num_guesses += 1\n",
        "    print('low=' + str(low) + ' high=' + str(high) + ' answer=' + str(guess))\n",
        "print('num_guesses =', num_guesses)\n",
        "print(guess, 'is close to the cube root of', cube)"
      ],
      "execution_count": null,
      "outputs": [
        {
          "output_type": "stream",
          "text": [
            "low=0 high=27.0 answer=13.5\n",
            "low=0 high=13.5 answer=6.75\n",
            "low=0 high=6.75 answer=3.375\n",
            "low=3.375 high=6.75 answer=5.0625\n",
            "low=3.375 high=5.0625 answer=4.21875\n",
            "low=3.375 high=4.21875 answer=3.796875\n",
            "low=3.375 high=3.796875 answer=3.5859375\n",
            "low=3.5859375 high=3.796875 answer=3.69140625\n",
            "low=3.69140625 high=3.796875 answer=3.744140625\n",
            "low=3.744140625 high=3.796875 answer=3.7705078125\n",
            "low=3.7705078125 high=3.796875 answer=3.78369140625\n",
            "low=3.7705078125 high=3.78369140625 answer=3.777099609375\n",
            "low=3.777099609375 high=3.78369140625 answer=3.7803955078125\n",
            "low=3.777099609375 high=3.7803955078125 answer=3.77874755859375\n",
            "low=3.77874755859375 high=3.7803955078125 answer=3.779571533203125\n",
            "num_guesses = 15\n",
            "3.779571533203125 is close to the cube root of 54\n"
          ],
          "name": "stdout"
        }
      ]
    },
    {
      "cell_type": "markdown",
      "metadata": {
        "id": "n_aOriSnWY1o"
      },
      "source": [
        "**Desafio: Mudar o cód para avaliar numeros negativos tb!**"
      ]
    },
    {
      "cell_type": "code",
      "metadata": {
        "colab": {
          "base_uri": "https://localhost:8080/"
        },
        "id": "Z2YzYECdNC-n",
        "outputId": "e7a3cf8f-f61e-4c5e-f7c1-53c991a966e3"
      },
      "source": [
        "\n",
        "cube = -54\n",
        "epsilon = 0.01\n",
        "num_guesses = 0\n",
        "low = cube    #Basta trocar o high para 1, agora low será o cubo! (pois: cube < raiz cubica < 1)\n",
        "high = 1\n",
        "guess = (high + low)/2.0\n",
        "while abs(guess**3 - cube) >= epsilon and guess >= cube:\n",
        "    if guess**3 < cube :\n",
        "        low = guess\n",
        "    else:\n",
        "        high = guess\n",
        "    guess = (high + low)/2.0\n",
        "    num_guesses += 1\n",
        "print('num_guesses =', num_guesses)\n",
        "print(guess, 'is close to the cube root of', cube)"
      ],
      "execution_count": null,
      "outputs": [
        {
          "output_type": "stream",
          "text": [
            "num_guesses = 16\n",
            "-3.7798538208007812 is close to the cube root of -54\n"
          ],
          "name": "stdout"
        }
      ]
    },
    {
      "cell_type": "markdown",
      "metadata": {
        "id": "tnos9f-Wi664"
      },
      "source": [
        "Exercicios - Video 3"
      ]
    },
    {
      "cell_type": "code",
      "metadata": {
        "colab": {
          "base_uri": "https://localhost:8080/"
        },
        "id": "805MfMsJK6vE",
        "outputId": "a86f23cb-e102-4e3c-a204-dc94a2f5c834"
      },
      "source": [
        "# DICAS DE PYTHON\n",
        "# Como printar na mesma linha:\n",
        "\n",
        "print(\"Hi\",end=' ')\n",
        "print(\"there\")\n",
        "print(\"Hi\",end='*')\n",
        "print(\"there\") "
      ],
      "execution_count": null,
      "outputs": [
        {
          "output_type": "stream",
          "text": [
            "Hi there\n",
            "Hi*there\n"
          ],
          "name": "stdout"
        }
      ]
    },
    {
      "cell_type": "markdown",
      "metadata": {
        "id": "3NV5Ixz5D0S8"
      },
      "source": [
        "Tentativas solução do exercício 3 - Guessing Number:\n",
        "\n",
        "Please think of a number between 0 and 100!\n",
        "Is your secret number 50?\n",
        "Enter 'h' to indicate the guess is too high. Enter 'l' to indicate the guess is too low. Enter 'c' to indicate I guessed correctly. l"
      ]
    },
    {
      "cell_type": "code",
      "metadata": {
        "colab": {
          "base_uri": "https://localhost:8080/",
          "height": 333
        },
        "id": "dxx51J2ki1rY",
        "outputId": "d2afec2a-939a-4117-e2d1-e4a2c76c8811"
      },
      "source": [
        "print(\"Please think of a number between 0 and 100!\")\n",
        "print(\"Is your secret number 50?\")\n",
        "x = 50\n",
        "secret_number = int(x)\n",
        "\n",
        "instruction = input(\"Enter 'h' to indicate the guess is too high. \\nEnter 'l' to indicate the guess is too low. \\nEnter 'c' to indicate I guessed correctly.\")\n",
        "print(instruction)\n",
        "while instruction != 'c':\n",
        "    if lower.instruction() == 'h':\n",
        "        secret_number = secret_number / 2\n",
        "        print(f\"Is your secret number {secret_number}?\")\n",
        "    if lower.instruction() == 'l':\n",
        "        secret_number = secrect_number + (secret_number / 2)\n",
        "        print(f\"Is your secret number {secret_number}?\")\n",
        "    if lower.instruction() == 'c':\n",
        "        print(f\"Game over. Your secret number was: {secret_number}\")"
      ],
      "execution_count": null,
      "outputs": [
        {
          "output_type": "stream",
          "text": [
            "Please think of a number between 0 and 100!\n",
            "Is your secret number 50?\n",
            "Enter 'h' to indicate the guess is too high. \n",
            "Enter 'l' to indicate the guess is too low. \n",
            "Enter 'c' to indicate I guessed correctly.h\n",
            "h\n"
          ],
          "name": "stdout"
        },
        {
          "output_type": "error",
          "ename": "NameError",
          "evalue": "ignored",
          "traceback": [
            "\u001b[0;31m---------------------------------------------------------------------------\u001b[0m",
            "\u001b[0;31mNameError\u001b[0m                                 Traceback (most recent call last)",
            "\u001b[0;32m<ipython-input-45-3bf6b8314fab>\u001b[0m in \u001b[0;36m<module>\u001b[0;34m()\u001b[0m\n\u001b[1;32m      7\u001b[0m \u001b[0mprint\u001b[0m\u001b[0;34m(\u001b[0m\u001b[0minstruction\u001b[0m\u001b[0;34m)\u001b[0m\u001b[0;34m\u001b[0m\u001b[0;34m\u001b[0m\u001b[0m\n\u001b[1;32m      8\u001b[0m \u001b[0;32mwhile\u001b[0m \u001b[0minstruction\u001b[0m \u001b[0;34m!=\u001b[0m \u001b[0;34m'c'\u001b[0m\u001b[0;34m:\u001b[0m\u001b[0;34m\u001b[0m\u001b[0;34m\u001b[0m\u001b[0m\n\u001b[0;32m----> 9\u001b[0;31m     \u001b[0;32mif\u001b[0m \u001b[0mlower\u001b[0m\u001b[0;34m.\u001b[0m\u001b[0minstruction\u001b[0m\u001b[0;34m(\u001b[0m\u001b[0;34m)\u001b[0m \u001b[0;34m==\u001b[0m \u001b[0;34m'h'\u001b[0m\u001b[0;34m:\u001b[0m\u001b[0;34m\u001b[0m\u001b[0;34m\u001b[0m\u001b[0m\n\u001b[0m\u001b[1;32m     10\u001b[0m         \u001b[0msecret_number\u001b[0m \u001b[0;34m=\u001b[0m \u001b[0msecret_number\u001b[0m \u001b[0;34m/\u001b[0m \u001b[0;36m2\u001b[0m\u001b[0;34m\u001b[0m\u001b[0;34m\u001b[0m\u001b[0m\n\u001b[1;32m     11\u001b[0m         \u001b[0mprint\u001b[0m\u001b[0;34m(\u001b[0m\u001b[0;34mf\"Is your secret number {secret_number}?\"\u001b[0m\u001b[0;34m)\u001b[0m\u001b[0;34m\u001b[0m\u001b[0;34m\u001b[0m\u001b[0m\n",
            "\u001b[0;31mNameError\u001b[0m: name 'lower' is not defined"
          ]
        }
      ]
    },
    {
      "cell_type": "code",
      "metadata": {
        "colab": {
          "base_uri": "https://localhost:8080/",
          "height": 316
        },
        "id": "6TWw_IoblzaC",
        "outputId": "6c8e7ddd-c909-417c-84ac-d5999ce58f12"
      },
      "source": [
        "print(\"Please think of a number between 0 and 100!\")\n",
        "print(\"Is your secret number 50?\")\n",
        "x = 100\n",
        "high = x\n",
        "low = 0\n",
        "answer = (high + low)/2.0\n",
        "\n",
        "secret_number = int(x)\n",
        "\n",
        "instruction = input(\"Enter 'h' to indicate the guess is too high. \\nEnter 'l' to indicate the guess is too low. \\nEnter 'c' to indicate I guessed correctly.\")\n",
        "\n",
        "while instruction != 'c':\n",
        "    if instruction.lower() == 'h':\n",
        "        high = answer\n",
        "    elif instruction.lower() == 'l':\n",
        "        low = answer\n",
        "    else:\n",
        "        print(\"Sorry, I did not understand your input.\")\n",
        "        print(f\"Is your secret number {int(secret_number)}?\")\n",
        "        instruction = input(\"Enter 'h' to indicate the guess is too high. \\nEnter 'l' to indicate the guess is too low. \\nEnter 'c' to indicate I guessed correctly.\")\n",
        "\n",
        "#elif instruction.lower() == 'c':\n",
        "  #print(f\"Game over. Your secret number was: {int(secret_number)}\")\n",
        "\n",
        "answer = (high + low)/2.0\n",
        "print(f\"Is your secret number {int(answer)}?\")\n",
        "instruction = input(\"Enter 'h' to indicate the guess is too high. \\nEnter 'l' to indicate the guess is too low. \\nEnter 'c' to indicate I guessed correctly.\")"
      ],
      "execution_count": null,
      "outputs": [
        {
          "output_type": "stream",
          "text": [
            "Please think of a number between 0 and 100!\n",
            "Is your secret number 50?\n",
            "Enter 'h' to indicate the guess is too high. \n",
            "Enter 'l' to indicate the guess is too low. \n",
            "Enter 'c' to indicate I guessed correctly.H\n"
          ],
          "name": "stdout"
        },
        {
          "output_type": "error",
          "ename": "KeyboardInterrupt",
          "evalue": "ignored",
          "traceback": [
            "\u001b[0;31m---------------------------------------------------------------------------\u001b[0m",
            "\u001b[0;31mKeyboardInterrupt\u001b[0m                         Traceback (most recent call last)",
            "\u001b[0;32m<ipython-input-5-6355c0578aea>\u001b[0m in \u001b[0;36m<module>\u001b[0;34m()\u001b[0m\n\u001b[1;32m     11\u001b[0m \u001b[0;34m\u001b[0m\u001b[0m\n\u001b[1;32m     12\u001b[0m \u001b[0;32mwhile\u001b[0m \u001b[0minstruction\u001b[0m \u001b[0;34m!=\u001b[0m \u001b[0;34m'c'\u001b[0m\u001b[0;34m:\u001b[0m\u001b[0;34m\u001b[0m\u001b[0;34m\u001b[0m\u001b[0m\n\u001b[0;32m---> 13\u001b[0;31m     \u001b[0;32mif\u001b[0m \u001b[0minstruction\u001b[0m\u001b[0;34m.\u001b[0m\u001b[0mlower\u001b[0m\u001b[0;34m(\u001b[0m\u001b[0;34m)\u001b[0m \u001b[0;34m==\u001b[0m \u001b[0;34m'h'\u001b[0m\u001b[0;34m:\u001b[0m\u001b[0;34m\u001b[0m\u001b[0;34m\u001b[0m\u001b[0m\n\u001b[0m\u001b[1;32m     14\u001b[0m         \u001b[0mhigh\u001b[0m \u001b[0;34m=\u001b[0m \u001b[0manswer\u001b[0m\u001b[0;34m\u001b[0m\u001b[0;34m\u001b[0m\u001b[0m\n\u001b[1;32m     15\u001b[0m     \u001b[0;32melif\u001b[0m \u001b[0minstruction\u001b[0m\u001b[0;34m.\u001b[0m\u001b[0mlower\u001b[0m\u001b[0;34m(\u001b[0m\u001b[0;34m)\u001b[0m \u001b[0;34m==\u001b[0m \u001b[0;34m'l'\u001b[0m\u001b[0;34m:\u001b[0m\u001b[0;34m\u001b[0m\u001b[0;34m\u001b[0m\u001b[0m\n",
            "\u001b[0;31mKeyboardInterrupt\u001b[0m: "
          ]
        }
      ]
    },
    {
      "cell_type": "markdown",
      "metadata": {
        "id": "oaq3AdqvRDlu"
      },
      "source": [
        "Minha solução:\n",
        "\n",
        "OBS: o MIT não aceitou como resposta, leitor do Python não reconhece minha formated string"
      ]
    },
    {
      "cell_type": "code",
      "metadata": {
        "colab": {
          "base_uri": "https://localhost:8080/"
        },
        "id": "h8RUL0sWQxlY",
        "outputId": "c203acaf-ee47-4773-931d-51b82169b343"
      },
      "source": [
        "print(\"Please think of a number between 0 and 100!\")\n",
        "print(\"Is your secret number 50?\")\n",
        "x = 100\n",
        "high = x\n",
        "low = 0\n",
        "answer = (high + low)//2.0\n",
        "\n",
        "instruction = input(\"Enter 'h' to indicate the guess is too high. \\nEnter 'l' to indicate the guess is too low. \\nEnter 'c' to indicate I guessed correctly.\")\n",
        "\n",
        "while instruction.lower() != 'c':\n",
        "    if instruction.lower() == 'h':\n",
        "        high = answer\n",
        "        answer = (high + low)//2.0\n",
        "        print(f\"Is your secret number {int(answer)}?\") ##O Pyhton do MIT não renhece essa FORMATED string! \n",
        "        #print(\"Is your secret number {}?\".format(int(answer)))  Dessa forma o MIT ACEITOU\n",
        "        instruction = input(\"Enter 'h' to indicate the guess is too high. \\nEnter 'l' to indicate the guess is too low. \\nEnter 'c' to indicate I guessed correctly.\")\n",
        "    elif instruction.lower() == 'l':\n",
        "        low = answer\n",
        "        answer = (high + low)//2.0\n",
        "        print(f\"Is your secret number {int(answer)}?\")\n",
        "        instruction = input(\"Enter 'h' to indicate the guess is too high. \\nEnter 'l' to indicate the guess is too low. \\nEnter 'c' to indicate I guessed correctly.\")\n",
        "    else:\n",
        "        print(\"Sorry, I did not understand your input.\")\n",
        "        print(f\"Is your secret number {int(answer)}?\")\n",
        "        instruction = input(\"Enter 'h' to indicate the guess is too high. \\nEnter 'l' to indicate the guess is too low. \\nEnter 'c' to indicate I guessed correctly.\")\n",
        "print(f\"Game over. Your secret number was: {int(answer)}\")"
      ],
      "execution_count": null,
      "outputs": [
        {
          "output_type": "stream",
          "text": [
            "Please think of a number between 0 and 100!\n",
            "Is your secret number 50?\n",
            "Enter 'h' to indicate the guess is too high. \n",
            "Enter 'l' to indicate the guess is too low. \n",
            "Enter 'c' to indicate I guessed correctly.H\n",
            "Is your secret number 25?\n",
            "Enter 'h' to indicate the guess is too high. \n",
            "Enter 'l' to indicate the guess is too low. \n",
            "Enter 'c' to indicate I guessed correctly.h\n",
            "Is your secret number 12?\n",
            "Enter 'h' to indicate the guess is too high. \n",
            "Enter 'l' to indicate the guess is too low. \n",
            "Enter 'c' to indicate I guessed correctly.L\n",
            "Is your secret number 18?\n",
            "Enter 'h' to indicate the guess is too high. \n",
            "Enter 'l' to indicate the guess is too low. \n",
            "Enter 'c' to indicate I guessed correctly.l\n",
            "Is your secret number 21?\n",
            "Enter 'h' to indicate the guess is too high. \n",
            "Enter 'l' to indicate the guess is too low. \n",
            "Enter 'c' to indicate I guessed correctly.y\n",
            "Sorry, I did not understand your input.\n",
            "Is your secret number 21?\n",
            "Enter 'h' to indicate the guess is too high. \n",
            "Enter 'l' to indicate the guess is too low. \n",
            "Enter 'c' to indicate I guessed correctly.n\n",
            "Sorry, I did not understand your input.\n",
            "Is your secret number 21?\n",
            "Enter 'h' to indicate the guess is too high. \n",
            "Enter 'l' to indicate the guess is too low. \n",
            "Enter 'c' to indicate I guessed correctly.l\n",
            "Is your secret number 23?\n",
            "Enter 'h' to indicate the guess is too high. \n",
            "Enter 'l' to indicate the guess is too low. \n",
            "Enter 'c' to indicate I guessed correctly.c\n",
            "Game over. Your secret number was: 23\n"
          ],
          "name": "stdout"
        }
      ]
    },
    {
      "cell_type": "markdown",
      "metadata": {
        "id": "QTLWRQX5bQAp"
      },
      "source": [
        "Simplificando minha solução:"
      ]
    },
    {
      "cell_type": "code",
      "metadata": {
        "id": "8CdET_f3bTNm"
      },
      "source": [
        "print(\"Please think of a number between 0 and 100!\")\n",
        "print(\"Is your secret number 50?\")\n",
        "x = 100\n",
        "high = x\n",
        "low = 0\n",
        "answer = (high + low)//2.0\n",
        "\n",
        "instruction = input(\"Enter 'h' to indicate the guess is too high. \\nEnter 'l' to indicate the guess is too low. \\nEnter 'c' to indicate I guessed correctly.\")\n",
        "\n",
        "while answer > 0 and answer < 100:\n",
        "    if instruction.lower() == 'h':\n",
        "        high = answer\n",
        "    elif instruction.lower() == 'l':\n",
        "        low = answer\n",
        "    elif instruction.lower() == 'c':\n",
        "        print(f\"Game over. Your secret number was: {int(answer)}\")\n",
        "        break\n",
        "    else:\n",
        "        print(\"Sorry, I did not understand your input.\")        \n",
        "    answer = (high + low)//2.0\n",
        "    print(f\"Is your secret number {int(answer)}?\")\n",
        "    instruction = input(\"Enter 'h' to indicate the guess is too high. \\nEnter 'l' to indicate the guess is too low. \\nEnter 'c' to indicate I guessed correctly.\")\n"
      ],
      "execution_count": null,
      "outputs": []
    },
    {
      "cell_type": "markdown",
      "metadata": {
        "id": "cFnDpPi-DMqc"
      },
      "source": [
        "Solução do exercício (achei no GitHub):"
      ]
    },
    {
      "cell_type": "code",
      "metadata": {
        "colab": {
          "base_uri": "https://localhost:8080/"
        },
        "id": "sVs9ZrOarssH",
        "outputId": "7c964cae-1bf3-43d2-cc21-a3bb6251ca65"
      },
      "source": [
        "low = 0\n",
        "high = 100\n",
        "print('Please think of a number between 0 and 100!')\n",
        "while True:\n",
        "    guess = (high + low)//2\n",
        "    print('Is your secret number ' + str(guess) + ' ?')\n",
        "    a = input(\"Enter 'h' to indicate the guess is too high. \\nEnter 'l' to indicate the guess is too low. \\nEnter 'c' to indicate I guessed correctly.\")\n",
        "    if a.lower() == 'c':\n",
        "        print('Game over. Your secret number was:', str(guess))\n",
        "        break\n",
        "    elif a.lower() == 'l':\n",
        "        low = guess\n",
        "    elif a.lower() == 'h':\n",
        "        high = guess\n",
        "    else:\n",
        "        print('Sorry, I did not understand your input.')"
      ],
      "execution_count": null,
      "outputs": [
        {
          "output_type": "stream",
          "text": [
            "Please think of a number between 0 and 100!\n",
            "Is your secret number 50 ?\n",
            "Enter 'h' to indicate the guess is too high. \n",
            "Enter 'l' to indicate the guess is too low. \n",
            "Enter 'c' to indicate I guessed correctly.c\n",
            "Game over. Your secret number was: 50\n"
          ],
          "name": "stdout"
        }
      ]
    },
    {
      "cell_type": "code",
      "metadata": {
        "id": "6I-uwxCHB09K"
      },
      "source": [
        ""
      ],
      "execution_count": null,
      "outputs": []
    },
    {
      "cell_type": "markdown",
      "metadata": {
        "id": "9Fwk9UKPoErH"
      },
      "source": [
        "**Video 4 - Floats and Fractions**"
      ]
    },
    {
      "cell_type": "markdown",
      "metadata": {
        "id": "y_G8gk_G98Ik"
      },
      "source": [
        "Transformando Numeros em Binários:"
      ]
    },
    {
      "cell_type": "code",
      "metadata": {
        "colab": {
          "base_uri": "https://localhost:8080/"
        },
        "id": "KopnrEGboaNR",
        "outputId": "a4f8a795-6857-42f4-b682-76e7900fa27f"
      },
      "source": [
        "#Professor Eric:\n",
        "\n",
        "num = 3\n",
        "\n",
        "if num < 0:\n",
        "    isNeg = True\n",
        "    num = abs(num)\n",
        "else:\n",
        "    isNeg = False\n",
        "result = ''\n",
        "if num == 0:\n",
        "    result = '0'\n",
        "while num > 0:\n",
        "    result = str(num%2) + result\n",
        "    num = num//2\n",
        "if isNeg:\n",
        "    result = '-' + result\n",
        "print(result)"
      ],
      "execution_count": null,
      "outputs": [
        {
          "output_type": "stream",
          "text": [
            "11\n"
          ],
          "name": "stdout"
        }
      ]
    },
    {
      "cell_type": "markdown",
      "metadata": {
        "id": "QbXmh84i-i_e"
      },
      "source": [
        "Transformando Floats em Binários:"
      ]
    },
    {
      "cell_type": "code",
      "metadata": {
        "colab": {
          "base_uri": "https://localhost:8080/"
        },
        "id": "C1OAtJsT-V5t",
        "outputId": "187402a8-8d0f-4030-e42e-c720e80a64a9"
      },
      "source": [
        "#Professor Eric:\n",
        "\n",
        "x = float(input('Enter a decimal number between 0 and 1: '))\n",
        "\n",
        "p = 0\n",
        "while ((2**p)*x)%1 != 0:\n",
        "    print('Remainder = ' + str((2**p)*x - int((2**p)*x)))\n",
        "    p += 1\n",
        "\n",
        "num = int(x*(2**p))\n",
        "\n",
        "result = ''\n",
        "if num == 0:\n",
        "    result = '0'\n",
        "while num > 0:\n",
        "    result = str(num%2) + result\n",
        "    num = num//2\n",
        "\n",
        "for i in range(p - len(result)):\n",
        "    result = '0' + result\n",
        "\n",
        "result = result[0:-p] + '.' + result[-p:]\n",
        "print('The binary representation of the decimal ' + str(x) + ' is ' + str(result))\n",
        "\n"
      ],
      "execution_count": null,
      "outputs": [
        {
          "output_type": "stream",
          "text": [
            "Enter a decimal number between 0 and 1: 0.1\n",
            "Remainder = 0.1\n",
            "Remainder = 0.2\n",
            "Remainder = 0.4\n",
            "Remainder = 0.8\n",
            "Remainder = 0.6000000000000001\n",
            "Remainder = 0.20000000000000018\n",
            "Remainder = 0.40000000000000036\n",
            "Remainder = 0.8000000000000007\n",
            "Remainder = 0.6000000000000014\n",
            "Remainder = 0.20000000000000284\n",
            "Remainder = 0.4000000000000057\n",
            "Remainder = 0.8000000000000114\n",
            "Remainder = 0.6000000000000227\n",
            "Remainder = 0.20000000000004547\n",
            "Remainder = 0.40000000000009095\n",
            "Remainder = 0.8000000000001819\n",
            "Remainder = 0.6000000000003638\n",
            "Remainder = 0.2000000000007276\n",
            "Remainder = 0.4000000000014552\n",
            "Remainder = 0.8000000000029104\n",
            "Remainder = 0.6000000000058208\n",
            "Remainder = 0.20000000001164153\n",
            "Remainder = 0.40000000002328306\n",
            "Remainder = 0.8000000000465661\n",
            "Remainder = 0.6000000000931323\n",
            "Remainder = 0.20000000018626451\n",
            "Remainder = 0.40000000037252903\n",
            "Remainder = 0.8000000007450581\n",
            "Remainder = 0.6000000014901161\n",
            "Remainder = 0.20000000298023224\n",
            "Remainder = 0.4000000059604645\n",
            "Remainder = 0.800000011920929\n",
            "Remainder = 0.6000000238418579\n",
            "Remainder = 0.20000004768371582\n",
            "Remainder = 0.40000009536743164\n",
            "Remainder = 0.8000001907348633\n",
            "Remainder = 0.6000003814697266\n",
            "Remainder = 0.20000076293945312\n",
            "Remainder = 0.40000152587890625\n",
            "Remainder = 0.8000030517578125\n",
            "Remainder = 0.600006103515625\n",
            "Remainder = 0.20001220703125\n",
            "Remainder = 0.4000244140625\n",
            "Remainder = 0.800048828125\n",
            "Remainder = 0.60009765625\n",
            "Remainder = 0.2001953125\n",
            "Remainder = 0.400390625\n",
            "Remainder = 0.80078125\n",
            "Remainder = 0.6015625\n",
            "Remainder = 0.203125\n",
            "Remainder = 0.40625\n",
            "Remainder = 0.8125\n",
            "Remainder = 0.625\n",
            "Remainder = 0.25\n",
            "Remainder = 0.5\n",
            "The binary representation of the decimal 0.1 is .0001100110011001100110011001100110011001100110011001101\n"
          ],
          "name": "stdout"
        }
      ]
    },
    {
      "cell_type": "code",
      "metadata": {
        "colab": {
          "base_uri": "https://localhost:8080/",
          "height": 35
        },
        "id": "vD-ZEhgVMgdV",
        "outputId": "5bdb68b7-2bf1-4e9c-e522-03bbc4f5e710"
      },
      "source": [
        "result = \"Marina\"\n",
        "\n",
        "result[0:-2]\n"
      ],
      "execution_count": null,
      "outputs": [
        {
          "output_type": "execute_result",
          "data": {
            "application/vnd.google.colaboratory.intrinsic+json": {
              "type": "string"
            },
            "text/plain": [
              "'Mari'"
            ]
          },
          "metadata": {
            "tags": []
          },
          "execution_count": 19
        }
      ]
    },
    {
      "cell_type": "markdown",
      "metadata": {
        "id": "7WSLxa-c_Kj9"
      },
      "source": [
        "Brincando de criar cód para conversão de Binário para número:"
      ]
    },
    {
      "cell_type": "code",
      "metadata": {
        "colab": {
          "base_uri": "https://localhost:8080/"
        },
        "id": "GgzF-VVn-mxx",
        "outputId": "b66188b5-e454-41dd-e7d7-0a5471dbfc7c"
      },
      "source": [
        "binario = input(\"Digite um número Binário: \")\n",
        "count = 0\n",
        "power = len(binario)\n",
        "for num in binario:\n",
        "    power -= 1\n",
        "    result = int(num) * 2**int(power)\n",
        "    count += result\n",
        "print(count)\n"
      ],
      "execution_count": null,
      "outputs": [
        {
          "output_type": "stream",
          "text": [
            "Digite um número Binário: 10011\n",
            "19\n"
          ],
          "name": "stdout"
        }
      ]
    },
    {
      "cell_type": "markdown",
      "metadata": {
        "id": "YQ2Xpx1Uk6kr"
      },
      "source": [
        "**Video 5 - Newton Raphson**"
      ]
    },
    {
      "cell_type": "code",
      "metadata": {
        "colab": {
          "base_uri": "https://localhost:8080/"
        },
        "id": "xfdjxyo7k-0b",
        "outputId": "9787dea6-dbf9-4a63-83a5-c196f907611f"
      },
      "source": [
        "#Professor Eric - Finding Square Root using Newton-Raphson:\n",
        "\n",
        "epsilon = 0.01\n",
        "y= 24.0\n",
        "guess = y/2.0\n",
        "numGuesses= 0\n",
        "\n",
        "while abs(guess*guess -y) >= epsilon:\n",
        "  numGuesses+= 1\n",
        "  guess = guess -(((guess**2) -y)/(2*guess))\n",
        "print(\"numGuesses= \" +str(numGuesses))\n",
        "print(\"Square root of \" + str(y) + \" is about \" + str(guess))"
      ],
      "execution_count": null,
      "outputs": [
        {
          "output_type": "stream",
          "text": [
            "numGuesses= 4\n",
            "Square root of 24.0 is about 4.8989887432139305\n"
          ],
          "name": "stdout"
        }
      ]
    },
    {
      "cell_type": "code",
      "metadata": {
        "colab": {
          "base_uri": "https://localhost:8080/"
        },
        "id": "9VibnLTg7Ksx",
        "outputId": "eb3c444e-50c5-4ccb-a084-0e58d1c0bf08"
      },
      "source": [
        "12 - ((12**2)-24) / (2*12)"
      ],
      "execution_count": null,
      "outputs": [
        {
          "output_type": "execute_result",
          "data": {
            "text/plain": [
              "7.0"
            ]
          },
          "metadata": {
            "tags": []
          },
          "execution_count": 9
        }
      ]
    },
    {
      "cell_type": "markdown",
      "metadata": {
        "id": "EAA0S04UAr-a"
      },
      "source": [
        "**Video 1 - Decomposition and Abstraction**"
      ]
    },
    {
      "cell_type": "markdown",
      "metadata": {
        "id": "28cArbKYA9Qv"
      },
      "source": [
        "Lecture 4 - Functions"
      ]
    },
    {
      "cell_type": "code",
      "metadata": {
        "id": "8XyqOplv9x6K"
      },
      "source": [
        ""
      ],
      "execution_count": null,
      "outputs": []
    }
  ]
}